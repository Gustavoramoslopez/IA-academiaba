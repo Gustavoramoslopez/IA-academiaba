{
 "cells": [
  {
   "cell_type": "markdown",
   "metadata": {},
   "source": [
    "## Promedio y desvío estándar"
   ]
  },
  {
   "cell_type": "code",
   "execution_count": 1,
   "metadata": {},
   "outputs": [],
   "source": [
    "import pandas as pd"
   ]
  },
  {
   "cell_type": "code",
   "execution_count": 2,
   "metadata": {},
   "outputs": [],
   "source": [
    "data_spotify=pd.read_csv('https://raw.githubusercontent.com/rfordatascience/tidytuesday/master/data/2020/2020-01-21/spotify_songs.csv')"
   ]
  },
  {
   "cell_type": "code",
   "execution_count": 3,
   "metadata": {},
   "outputs": [
    {
     "data": {
      "text/html": [
       "<div>\n",
       "<style scoped>\n",
       "    .dataframe tbody tr th:only-of-type {\n",
       "        vertical-align: middle;\n",
       "    }\n",
       "\n",
       "    .dataframe tbody tr th {\n",
       "        vertical-align: top;\n",
       "    }\n",
       "\n",
       "    .dataframe thead th {\n",
       "        text-align: right;\n",
       "    }\n",
       "</style>\n",
       "<table border=\"1\" class=\"dataframe\">\n",
       "  <thead>\n",
       "    <tr style=\"text-align: right;\">\n",
       "      <th></th>\n",
       "      <th>track_id</th>\n",
       "      <th>track_name</th>\n",
       "      <th>track_artist</th>\n",
       "      <th>track_popularity</th>\n",
       "      <th>track_album_id</th>\n",
       "      <th>track_album_name</th>\n",
       "      <th>track_album_release_date</th>\n",
       "      <th>playlist_name</th>\n",
       "      <th>playlist_id</th>\n",
       "      <th>playlist_genre</th>\n",
       "      <th>...</th>\n",
       "      <th>key</th>\n",
       "      <th>loudness</th>\n",
       "      <th>mode</th>\n",
       "      <th>speechiness</th>\n",
       "      <th>acousticness</th>\n",
       "      <th>instrumentalness</th>\n",
       "      <th>liveness</th>\n",
       "      <th>valence</th>\n",
       "      <th>tempo</th>\n",
       "      <th>duration_ms</th>\n",
       "    </tr>\n",
       "  </thead>\n",
       "  <tbody>\n",
       "    <tr>\n",
       "      <th>0</th>\n",
       "      <td>6f807x0ima9a1j3VPbc7VN</td>\n",
       "      <td>I Don't Care (with Justin Bieber) - Loud Luxur...</td>\n",
       "      <td>Ed Sheeran</td>\n",
       "      <td>66</td>\n",
       "      <td>2oCs0DGTsRO98Gh5ZSl2Cx</td>\n",
       "      <td>I Don't Care (with Justin Bieber) [Loud Luxury...</td>\n",
       "      <td>2019-06-14</td>\n",
       "      <td>Pop Remix</td>\n",
       "      <td>37i9dQZF1DXcZDD7cfEKhW</td>\n",
       "      <td>pop</td>\n",
       "      <td>...</td>\n",
       "      <td>6</td>\n",
       "      <td>-2.634</td>\n",
       "      <td>1</td>\n",
       "      <td>0.0583</td>\n",
       "      <td>0.1020</td>\n",
       "      <td>0.000000</td>\n",
       "      <td>0.0653</td>\n",
       "      <td>0.518</td>\n",
       "      <td>122.036</td>\n",
       "      <td>194754</td>\n",
       "    </tr>\n",
       "    <tr>\n",
       "      <th>1</th>\n",
       "      <td>0r7CVbZTWZgbTCYdfa2P31</td>\n",
       "      <td>Memories - Dillon Francis Remix</td>\n",
       "      <td>Maroon 5</td>\n",
       "      <td>67</td>\n",
       "      <td>63rPSO264uRjW1X5E6cWv6</td>\n",
       "      <td>Memories (Dillon Francis Remix)</td>\n",
       "      <td>2019-12-13</td>\n",
       "      <td>Pop Remix</td>\n",
       "      <td>37i9dQZF1DXcZDD7cfEKhW</td>\n",
       "      <td>pop</td>\n",
       "      <td>...</td>\n",
       "      <td>11</td>\n",
       "      <td>-4.969</td>\n",
       "      <td>1</td>\n",
       "      <td>0.0373</td>\n",
       "      <td>0.0724</td>\n",
       "      <td>0.004210</td>\n",
       "      <td>0.3570</td>\n",
       "      <td>0.693</td>\n",
       "      <td>99.972</td>\n",
       "      <td>162600</td>\n",
       "    </tr>\n",
       "    <tr>\n",
       "      <th>2</th>\n",
       "      <td>1z1Hg7Vb0AhHDiEmnDE79l</td>\n",
       "      <td>All the Time - Don Diablo Remix</td>\n",
       "      <td>Zara Larsson</td>\n",
       "      <td>70</td>\n",
       "      <td>1HoSmj2eLcsrR0vE9gThr4</td>\n",
       "      <td>All the Time (Don Diablo Remix)</td>\n",
       "      <td>2019-07-05</td>\n",
       "      <td>Pop Remix</td>\n",
       "      <td>37i9dQZF1DXcZDD7cfEKhW</td>\n",
       "      <td>pop</td>\n",
       "      <td>...</td>\n",
       "      <td>1</td>\n",
       "      <td>-3.432</td>\n",
       "      <td>0</td>\n",
       "      <td>0.0742</td>\n",
       "      <td>0.0794</td>\n",
       "      <td>0.000023</td>\n",
       "      <td>0.1100</td>\n",
       "      <td>0.613</td>\n",
       "      <td>124.008</td>\n",
       "      <td>176616</td>\n",
       "    </tr>\n",
       "    <tr>\n",
       "      <th>3</th>\n",
       "      <td>75FpbthrwQmzHlBJLuGdC7</td>\n",
       "      <td>Call You Mine - Keanu Silva Remix</td>\n",
       "      <td>The Chainsmokers</td>\n",
       "      <td>60</td>\n",
       "      <td>1nqYsOef1yKKuGOVchbsk6</td>\n",
       "      <td>Call You Mine - The Remixes</td>\n",
       "      <td>2019-07-19</td>\n",
       "      <td>Pop Remix</td>\n",
       "      <td>37i9dQZF1DXcZDD7cfEKhW</td>\n",
       "      <td>pop</td>\n",
       "      <td>...</td>\n",
       "      <td>7</td>\n",
       "      <td>-3.778</td>\n",
       "      <td>1</td>\n",
       "      <td>0.1020</td>\n",
       "      <td>0.0287</td>\n",
       "      <td>0.000009</td>\n",
       "      <td>0.2040</td>\n",
       "      <td>0.277</td>\n",
       "      <td>121.956</td>\n",
       "      <td>169093</td>\n",
       "    </tr>\n",
       "    <tr>\n",
       "      <th>4</th>\n",
       "      <td>1e8PAfcKUYoKkxPhrHqw4x</td>\n",
       "      <td>Someone You Loved - Future Humans Remix</td>\n",
       "      <td>Lewis Capaldi</td>\n",
       "      <td>69</td>\n",
       "      <td>7m7vv9wlQ4i0LFuJiE2zsQ</td>\n",
       "      <td>Someone You Loved (Future Humans Remix)</td>\n",
       "      <td>2019-03-05</td>\n",
       "      <td>Pop Remix</td>\n",
       "      <td>37i9dQZF1DXcZDD7cfEKhW</td>\n",
       "      <td>pop</td>\n",
       "      <td>...</td>\n",
       "      <td>1</td>\n",
       "      <td>-4.672</td>\n",
       "      <td>1</td>\n",
       "      <td>0.0359</td>\n",
       "      <td>0.0803</td>\n",
       "      <td>0.000000</td>\n",
       "      <td>0.0833</td>\n",
       "      <td>0.725</td>\n",
       "      <td>123.976</td>\n",
       "      <td>189052</td>\n",
       "    </tr>\n",
       "    <tr>\n",
       "      <th>...</th>\n",
       "      <td>...</td>\n",
       "      <td>...</td>\n",
       "      <td>...</td>\n",
       "      <td>...</td>\n",
       "      <td>...</td>\n",
       "      <td>...</td>\n",
       "      <td>...</td>\n",
       "      <td>...</td>\n",
       "      <td>...</td>\n",
       "      <td>...</td>\n",
       "      <td>...</td>\n",
       "      <td>...</td>\n",
       "      <td>...</td>\n",
       "      <td>...</td>\n",
       "      <td>...</td>\n",
       "      <td>...</td>\n",
       "      <td>...</td>\n",
       "      <td>...</td>\n",
       "      <td>...</td>\n",
       "      <td>...</td>\n",
       "      <td>...</td>\n",
       "    </tr>\n",
       "    <tr>\n",
       "      <th>21354</th>\n",
       "      <td>3jmBWNWrQErNPBPiE0friv</td>\n",
       "      <td>Va a Toa</td>\n",
       "      <td>Farruko</td>\n",
       "      <td>24</td>\n",
       "      <td>4YIgfjNcN2nKob6ib6obEN</td>\n",
       "      <td>TMPR The Most Powerful Rookie</td>\n",
       "      <td>2016-02-22</td>\n",
       "      <td>Los Cangri</td>\n",
       "      <td>2hTs6GuPwhmg4ApNqxWXLE</td>\n",
       "      <td>latin</td>\n",
       "      <td>...</td>\n",
       "      <td>1</td>\n",
       "      <td>-5.166</td>\n",
       "      <td>1</td>\n",
       "      <td>0.0430</td>\n",
       "      <td>0.3930</td>\n",
       "      <td>0.000043</td>\n",
       "      <td>0.5190</td>\n",
       "      <td>0.803</td>\n",
       "      <td>92.001</td>\n",
       "      <td>202449</td>\n",
       "    </tr>\n",
       "    <tr>\n",
       "      <th>21355</th>\n",
       "      <td>4HCsKNye8SYImpwXnurwmN</td>\n",
       "      <td>Prrrum - Remix</td>\n",
       "      <td>Cosculluela</td>\n",
       "      <td>0</td>\n",
       "      <td>4lAJ5MS5BlXfyC03rii98I</td>\n",
       "      <td>The Ones</td>\n",
       "      <td>2015-09-25</td>\n",
       "      <td>Los Cangri</td>\n",
       "      <td>2hTs6GuPwhmg4ApNqxWXLE</td>\n",
       "      <td>latin</td>\n",
       "      <td>...</td>\n",
       "      <td>1</td>\n",
       "      <td>-3.076</td>\n",
       "      <td>1</td>\n",
       "      <td>0.2910</td>\n",
       "      <td>0.1670</td>\n",
       "      <td>0.000000</td>\n",
       "      <td>0.0721</td>\n",
       "      <td>0.727</td>\n",
       "      <td>90.034</td>\n",
       "      <td>253600</td>\n",
       "    </tr>\n",
       "    <tr>\n",
       "      <th>21356</th>\n",
       "      <td>2Dbq5moIguMsbRZa9SB7gD</td>\n",
       "      <td>Permitame (feat. Yandel)</td>\n",
       "      <td>Tony Dize</td>\n",
       "      <td>65</td>\n",
       "      <td>3gvDroaxVajs2EDUABP3C7</td>\n",
       "      <td>La Melodia de la Calle (Remastered)</td>\n",
       "      <td>2009</td>\n",
       "      <td>Los Cangri</td>\n",
       "      <td>2hTs6GuPwhmg4ApNqxWXLE</td>\n",
       "      <td>latin</td>\n",
       "      <td>...</td>\n",
       "      <td>8</td>\n",
       "      <td>-7.272</td>\n",
       "      <td>1</td>\n",
       "      <td>0.1830</td>\n",
       "      <td>0.0181</td>\n",
       "      <td>0.000000</td>\n",
       "      <td>0.1130</td>\n",
       "      <td>0.894</td>\n",
       "      <td>214.047</td>\n",
       "      <td>184507</td>\n",
       "    </tr>\n",
       "    <tr>\n",
       "      <th>21357</th>\n",
       "      <td>1zOA2VabBnP3ufAH1e5TQJ</td>\n",
       "      <td>Flow Violento</td>\n",
       "      <td>Arcangel</td>\n",
       "      <td>0</td>\n",
       "      <td>439hVywf3XRbR5sXqI6zwG</td>\n",
       "      <td>La Fórmula</td>\n",
       "      <td>2012-10-02</td>\n",
       "      <td>Los Cangri</td>\n",
       "      <td>2hTs6GuPwhmg4ApNqxWXLE</td>\n",
       "      <td>latin</td>\n",
       "      <td>...</td>\n",
       "      <td>9</td>\n",
       "      <td>-6.166</td>\n",
       "      <td>1</td>\n",
       "      <td>0.1440</td>\n",
       "      <td>0.2390</td>\n",
       "      <td>0.000000</td>\n",
       "      <td>0.1040</td>\n",
       "      <td>0.952</td>\n",
       "      <td>80.011</td>\n",
       "      <td>182587</td>\n",
       "    </tr>\n",
       "    <tr>\n",
       "      <th>21358</th>\n",
       "      <td>1Y4cYXcmevXTHar02JP6nt</td>\n",
       "      <td>Descará</td>\n",
       "      <td>Yomo</td>\n",
       "      <td>41</td>\n",
       "      <td>7CCfcuCn7J3dvHYziLI4T1</td>\n",
       "      <td>La Revolución - Evolution (International Version)</td>\n",
       "      <td>2009-01-01</td>\n",
       "      <td>Los Cangri</td>\n",
       "      <td>2hTs6GuPwhmg4ApNqxWXLE</td>\n",
       "      <td>latin</td>\n",
       "      <td>...</td>\n",
       "      <td>1</td>\n",
       "      <td>-5.295</td>\n",
       "      <td>0</td>\n",
       "      <td>0.1610</td>\n",
       "      <td>0.1160</td>\n",
       "      <td>0.000071</td>\n",
       "      <td>0.6770</td>\n",
       "      <td>0.725</td>\n",
       "      <td>89.988</td>\n",
       "      <td>303520</td>\n",
       "    </tr>\n",
       "  </tbody>\n",
       "</table>\n",
       "<p>16408 rows × 23 columns</p>\n",
       "</div>"
      ],
      "text/plain": [
       "                     track_id  \\\n",
       "0      6f807x0ima9a1j3VPbc7VN   \n",
       "1      0r7CVbZTWZgbTCYdfa2P31   \n",
       "2      1z1Hg7Vb0AhHDiEmnDE79l   \n",
       "3      75FpbthrwQmzHlBJLuGdC7   \n",
       "4      1e8PAfcKUYoKkxPhrHqw4x   \n",
       "...                       ...   \n",
       "21354  3jmBWNWrQErNPBPiE0friv   \n",
       "21355  4HCsKNye8SYImpwXnurwmN   \n",
       "21356  2Dbq5moIguMsbRZa9SB7gD   \n",
       "21357  1zOA2VabBnP3ufAH1e5TQJ   \n",
       "21358  1Y4cYXcmevXTHar02JP6nt   \n",
       "\n",
       "                                              track_name      track_artist  \\\n",
       "0      I Don't Care (with Justin Bieber) - Loud Luxur...        Ed Sheeran   \n",
       "1                        Memories - Dillon Francis Remix          Maroon 5   \n",
       "2                        All the Time - Don Diablo Remix      Zara Larsson   \n",
       "3                      Call You Mine - Keanu Silva Remix  The Chainsmokers   \n",
       "4                Someone You Loved - Future Humans Remix     Lewis Capaldi   \n",
       "...                                                  ...               ...   \n",
       "21354                                           Va a Toa           Farruko   \n",
       "21355                                     Prrrum - Remix       Cosculluela   \n",
       "21356                           Permitame (feat. Yandel)         Tony Dize   \n",
       "21357                                      Flow Violento          Arcangel   \n",
       "21358                                            Descará              Yomo   \n",
       "\n",
       "       track_popularity          track_album_id  \\\n",
       "0                    66  2oCs0DGTsRO98Gh5ZSl2Cx   \n",
       "1                    67  63rPSO264uRjW1X5E6cWv6   \n",
       "2                    70  1HoSmj2eLcsrR0vE9gThr4   \n",
       "3                    60  1nqYsOef1yKKuGOVchbsk6   \n",
       "4                    69  7m7vv9wlQ4i0LFuJiE2zsQ   \n",
       "...                 ...                     ...   \n",
       "21354                24  4YIgfjNcN2nKob6ib6obEN   \n",
       "21355                 0  4lAJ5MS5BlXfyC03rii98I   \n",
       "21356                65  3gvDroaxVajs2EDUABP3C7   \n",
       "21357                 0  439hVywf3XRbR5sXqI6zwG   \n",
       "21358                41  7CCfcuCn7J3dvHYziLI4T1   \n",
       "\n",
       "                                        track_album_name  \\\n",
       "0      I Don't Care (with Justin Bieber) [Loud Luxury...   \n",
       "1                        Memories (Dillon Francis Remix)   \n",
       "2                        All the Time (Don Diablo Remix)   \n",
       "3                            Call You Mine - The Remixes   \n",
       "4                Someone You Loved (Future Humans Remix)   \n",
       "...                                                  ...   \n",
       "21354                      TMPR The Most Powerful Rookie   \n",
       "21355                                           The Ones   \n",
       "21356                La Melodia de la Calle (Remastered)   \n",
       "21357                                         La Fórmula   \n",
       "21358  La Revolución - Evolution (International Version)   \n",
       "\n",
       "      track_album_release_date playlist_name             playlist_id  \\\n",
       "0                   2019-06-14     Pop Remix  37i9dQZF1DXcZDD7cfEKhW   \n",
       "1                   2019-12-13     Pop Remix  37i9dQZF1DXcZDD7cfEKhW   \n",
       "2                   2019-07-05     Pop Remix  37i9dQZF1DXcZDD7cfEKhW   \n",
       "3                   2019-07-19     Pop Remix  37i9dQZF1DXcZDD7cfEKhW   \n",
       "4                   2019-03-05     Pop Remix  37i9dQZF1DXcZDD7cfEKhW   \n",
       "...                        ...           ...                     ...   \n",
       "21354               2016-02-22    Los Cangri  2hTs6GuPwhmg4ApNqxWXLE   \n",
       "21355               2015-09-25    Los Cangri  2hTs6GuPwhmg4ApNqxWXLE   \n",
       "21356                     2009    Los Cangri  2hTs6GuPwhmg4ApNqxWXLE   \n",
       "21357               2012-10-02    Los Cangri  2hTs6GuPwhmg4ApNqxWXLE   \n",
       "21358               2009-01-01    Los Cangri  2hTs6GuPwhmg4ApNqxWXLE   \n",
       "\n",
       "      playlist_genre  ... key  loudness  mode  speechiness  acousticness  \\\n",
       "0                pop  ...   6    -2.634     1       0.0583        0.1020   \n",
       "1                pop  ...  11    -4.969     1       0.0373        0.0724   \n",
       "2                pop  ...   1    -3.432     0       0.0742        0.0794   \n",
       "3                pop  ...   7    -3.778     1       0.1020        0.0287   \n",
       "4                pop  ...   1    -4.672     1       0.0359        0.0803   \n",
       "...              ...  ...  ..       ...   ...          ...           ...   \n",
       "21354          latin  ...   1    -5.166     1       0.0430        0.3930   \n",
       "21355          latin  ...   1    -3.076     1       0.2910        0.1670   \n",
       "21356          latin  ...   8    -7.272     1       0.1830        0.0181   \n",
       "21357          latin  ...   9    -6.166     1       0.1440        0.2390   \n",
       "21358          latin  ...   1    -5.295     0       0.1610        0.1160   \n",
       "\n",
       "       instrumentalness  liveness  valence    tempo  duration_ms  \n",
       "0              0.000000    0.0653    0.518  122.036       194754  \n",
       "1              0.004210    0.3570    0.693   99.972       162600  \n",
       "2              0.000023    0.1100    0.613  124.008       176616  \n",
       "3              0.000009    0.2040    0.277  121.956       169093  \n",
       "4              0.000000    0.0833    0.725  123.976       189052  \n",
       "...                 ...       ...      ...      ...          ...  \n",
       "21354          0.000043    0.5190    0.803   92.001       202449  \n",
       "21355          0.000000    0.0721    0.727   90.034       253600  \n",
       "21356          0.000000    0.1130    0.894  214.047       184507  \n",
       "21357          0.000000    0.1040    0.952   80.011       182587  \n",
       "21358          0.000071    0.6770    0.725   89.988       303520  \n",
       "\n",
       "[16408 rows x 23 columns]"
      ]
     },
     "execution_count": 3,
     "metadata": {},
     "output_type": "execute_result"
    }
   ],
   "source": [
    "#Me quedo con los playlist: pop, rap, latin\n",
    "data_pop_rap_latin=data_spotify[data_spotify['playlist_genre'].isin(['pop', 'rap', 'latin'])]\n",
    "data_pop_rap_latin"
   ]
  },
  {
   "cell_type": "code",
   "execution_count": 27,
   "metadata": {},
   "outputs": [
    {
     "data": {
      "text/html": [
       "<div>\n",
       "<style scoped>\n",
       "    .dataframe tbody tr th:only-of-type {\n",
       "        vertical-align: middle;\n",
       "    }\n",
       "\n",
       "    .dataframe tbody tr th {\n",
       "        vertical-align: top;\n",
       "    }\n",
       "\n",
       "    .dataframe thead th {\n",
       "        text-align: right;\n",
       "    }\n",
       "</style>\n",
       "<table border=\"1\" class=\"dataframe\">\n",
       "  <thead>\n",
       "    <tr style=\"text-align: right;\">\n",
       "      <th></th>\n",
       "      <th>playlist_genre</th>\n",
       "      <th>duration_ms</th>\n",
       "    </tr>\n",
       "  </thead>\n",
       "  <tbody>\n",
       "    <tr>\n",
       "      <th>0</th>\n",
       "      <td>pop</td>\n",
       "      <td>194754</td>\n",
       "    </tr>\n",
       "    <tr>\n",
       "      <th>1</th>\n",
       "      <td>pop</td>\n",
       "      <td>162600</td>\n",
       "    </tr>\n",
       "    <tr>\n",
       "      <th>2</th>\n",
       "      <td>pop</td>\n",
       "      <td>176616</td>\n",
       "    </tr>\n",
       "    <tr>\n",
       "      <th>3</th>\n",
       "      <td>pop</td>\n",
       "      <td>169093</td>\n",
       "    </tr>\n",
       "    <tr>\n",
       "      <th>4</th>\n",
       "      <td>pop</td>\n",
       "      <td>189052</td>\n",
       "    </tr>\n",
       "    <tr>\n",
       "      <th>...</th>\n",
       "      <td>...</td>\n",
       "      <td>...</td>\n",
       "    </tr>\n",
       "    <tr>\n",
       "      <th>21354</th>\n",
       "      <td>latin</td>\n",
       "      <td>202449</td>\n",
       "    </tr>\n",
       "    <tr>\n",
       "      <th>21355</th>\n",
       "      <td>latin</td>\n",
       "      <td>253600</td>\n",
       "    </tr>\n",
       "    <tr>\n",
       "      <th>21356</th>\n",
       "      <td>latin</td>\n",
       "      <td>184507</td>\n",
       "    </tr>\n",
       "    <tr>\n",
       "      <th>21357</th>\n",
       "      <td>latin</td>\n",
       "      <td>182587</td>\n",
       "    </tr>\n",
       "    <tr>\n",
       "      <th>21358</th>\n",
       "      <td>latin</td>\n",
       "      <td>303520</td>\n",
       "    </tr>\n",
       "  </tbody>\n",
       "</table>\n",
       "<p>16408 rows × 2 columns</p>\n",
       "</div>"
      ],
      "text/plain": [
       "      playlist_genre  duration_ms\n",
       "0                pop       194754\n",
       "1                pop       162600\n",
       "2                pop       176616\n",
       "3                pop       169093\n",
       "4                pop       189052\n",
       "...              ...          ...\n",
       "21354          latin       202449\n",
       "21355          latin       253600\n",
       "21356          latin       184507\n",
       "21357          latin       182587\n",
       "21358          latin       303520\n",
       "\n",
       "[16408 rows x 2 columns]"
      ]
     },
     "execution_count": 27,
     "metadata": {},
     "output_type": "execute_result"
    }
   ],
   "source": [
    "#De mi dataset, me quedo unicamente con las columnas: playlist_genre, duration_ms\n",
    "data_pop_rap_latin_filtrado=data_pop_rap_latin[['playlist_genre','duration_ms']]\n",
    "data_pop_rap_latin_filtrado"
   ]
  },
  {
   "cell_type": "code",
   "execution_count": 28,
   "metadata": {},
   "outputs": [
    {
     "data": {
      "text/html": [
       "<div>\n",
       "<style scoped>\n",
       "    .dataframe tbody tr th:only-of-type {\n",
       "        vertical-align: middle;\n",
       "    }\n",
       "\n",
       "    .dataframe tbody tr th {\n",
       "        vertical-align: top;\n",
       "    }\n",
       "\n",
       "    .dataframe thead th {\n",
       "        text-align: right;\n",
       "    }\n",
       "</style>\n",
       "<table border=\"1\" class=\"dataframe\">\n",
       "  <thead>\n",
       "    <tr style=\"text-align: right;\">\n",
       "      <th></th>\n",
       "      <th>duration_ms</th>\n",
       "    </tr>\n",
       "    <tr>\n",
       "      <th>playlist_genre</th>\n",
       "      <th></th>\n",
       "    </tr>\n",
       "  </thead>\n",
       "  <tbody>\n",
       "    <tr>\n",
       "      <th>latin</th>\n",
       "      <td>216.863447</td>\n",
       "    </tr>\n",
       "    <tr>\n",
       "      <th>pop</th>\n",
       "      <td>217.768104</td>\n",
       "    </tr>\n",
       "    <tr>\n",
       "      <th>rap</th>\n",
       "      <td>214.163889</td>\n",
       "    </tr>\n",
       "  </tbody>\n",
       "</table>\n",
       "</div>"
      ],
      "text/plain": [
       "                duration_ms\n",
       "playlist_genre             \n",
       "latin            216.863447\n",
       "pop              217.768104\n",
       "rap              214.163889"
      ]
     },
     "execution_count": 28,
     "metadata": {},
     "output_type": "execute_result"
    }
   ],
   "source": [
    "#Agrupo por: playlist_genre y calculo el promedio\n",
    "data_pop_rap_latin_filtrado.groupby('playlist_genre').mean()/1000 # duración en segundos"
   ]
  },
  {
   "cell_type": "code",
   "execution_count": 29,
   "metadata": {},
   "outputs": [
    {
     "data": {
      "text/html": [
       "<div>\n",
       "<style scoped>\n",
       "    .dataframe tbody tr th:only-of-type {\n",
       "        vertical-align: middle;\n",
       "    }\n",
       "\n",
       "    .dataframe tbody tr th {\n",
       "        vertical-align: top;\n",
       "    }\n",
       "\n",
       "    .dataframe thead th {\n",
       "        text-align: right;\n",
       "    }\n",
       "</style>\n",
       "<table border=\"1\" class=\"dataframe\">\n",
       "  <thead>\n",
       "    <tr style=\"text-align: right;\">\n",
       "      <th></th>\n",
       "      <th>duration_ms</th>\n",
       "    </tr>\n",
       "    <tr>\n",
       "      <th>playlist_genre</th>\n",
       "      <th></th>\n",
       "    </tr>\n",
       "  </thead>\n",
       "  <tbody>\n",
       "    <tr>\n",
       "      <th>latin</th>\n",
       "      <td>48.401258</td>\n",
       "    </tr>\n",
       "    <tr>\n",
       "      <th>pop</th>\n",
       "      <td>45.312946</td>\n",
       "    </tr>\n",
       "    <tr>\n",
       "      <th>rap</th>\n",
       "      <td>60.265287</td>\n",
       "    </tr>\n",
       "  </tbody>\n",
       "</table>\n",
       "</div>"
      ],
      "text/plain": [
       "                duration_ms\n",
       "playlist_genre             \n",
       "latin             48.401258\n",
       "pop               45.312946\n",
       "rap               60.265287"
      ]
     },
     "execution_count": 29,
     "metadata": {},
     "output_type": "execute_result"
    }
   ],
   "source": [
    "#Agrupo por: playlist_genre y calculo el desvío estándar\n",
    "data_pop_rap_latin_filtrado.groupby('playlist_genre').std()/1000"
   ]
  },
  {
   "cell_type": "markdown",
   "metadata": {},
   "source": [
    "De esta primera aproximación a los datos, podemos observar que tenemos promedios muy parecidos pero desvíos estandares no \"tan similares\". Esto que significa? Bueno justamente este escenario nos denota inicialmente la existencia de valores atípicos o outliers."
   ]
  },
  {
   "cell_type": "markdown",
   "metadata": {},
   "source": [
    "## Asimetría y Curtosis"
   ]
  },
  {
   "cell_type": "code",
   "execution_count": 30,
   "metadata": {},
   "outputs": [],
   "source": [
    "#Importemos la librerias\n",
    "from scipy.stats import kurtosis, skew"
   ]
  },
  {
   "cell_type": "code",
   "execution_count": 31,
   "metadata": {},
   "outputs": [
    {
     "data": {
      "text/plain": [
       "-0.6363007693875944"
      ]
     },
     "execution_count": 31,
     "metadata": {},
     "output_type": "execute_result"
    }
   ],
   "source": [
    "#Empecemos con el concepto de Asimetría\n",
    "skew(data_spotify['energy'])"
   ]
  },
  {
   "cell_type": "code",
   "execution_count": 32,
   "metadata": {},
   "outputs": [
    {
     "data": {
      "text/plain": [
       "<AxesSubplot:>"
      ]
     },
     "execution_count": 32,
     "metadata": {},
     "output_type": "execute_result"
    },
    {
     "data": {
      "image/png": "[encoded data removed]",
      "text/plain": [
       "<Figure size 432x288 with 1 Axes>"
      ]
     },
     "metadata": {
      "needs_background": "light"
     },
     "output_type": "display_data"
    }
   ],
   "source": [
    "#Grafiquemos\n",
    "data_spotify['energy'].hist()"
   ]
  },
  {
   "cell_type": "code",
   "execution_count": 33,
   "metadata": {},
   "outputs": [
    {
     "data": {
      "text/plain": [
       "1.5947130448327556"
      ]
     },
     "execution_count": 33,
     "metadata": {},
     "output_type": "execute_result"
    }
   ],
   "source": [
    "#Veamos ahora otra variable!\n",
    "skew(data_spotify['acousticness'])"
   ]
  },
  {
   "cell_type": "code",
   "execution_count": 34,
   "metadata": {},
   "outputs": [
    {
     "data": {
      "text/plain": [
       "<AxesSubplot:>"
      ]
     },
     "execution_count": 34,
     "metadata": {},
     "output_type": "execute_result"
    },
    {
     "data": {
      "image/png": "[encoded data removed]",
      "text/plain": [
       "<Figure size 432x288 with 1 Axes>"
      ]
     },
     "metadata": {
      "needs_background": "light"
     },
     "output_type": "display_data"
    }
   ],
   "source": [
    "#Grafiquemos\n",
    "data_spotify['acousticness'].hist()"
   ]
  },
  {
   "cell_type": "code",
   "execution_count": 35,
   "metadata": {},
   "outputs": [
    {
     "data": {
      "image/png": "[encoded data removed]",
      "text/plain": [
       "<Figure size 432x288 with 2 Axes>"
      ]
     },
     "metadata": {
      "needs_background": "light"
     },
     "output_type": "display_data"
    }
   ],
   "source": [
    "#Analicemos ahora la curtosis para las variables: valence y duration_ms\n",
    "p = data_spotify[['valence', 'duration_ms']].hist()"
   ]
  },
  {
   "cell_type": "code",
   "execution_count": 36,
   "metadata": {},
   "outputs": [
    {
     "data": {
      "text/plain": [
       "valence       -0.900981\n",
       "duration_ms    2.699186\n",
       "dtype: float64"
      ]
     },
     "execution_count": 36,
     "metadata": {},
     "output_type": "execute_result"
    }
   ],
   "source": [
    "data_spotify[['valence', 'duration_ms']].kurtosis()"
   ]
  },
  {
   "cell_type": "markdown",
   "metadata": {},
   "source": [
    "Interpretación de los valores obtenidos:\n",
    " * Si la curtosis me da negativa, significa que hay una menor concentración de datos\n",
    "en torno a la media y por lo tanto una mayor dispersión.\n",
    " * Si la curtosis me da positiva, significa que la variable analizada presenta menor dispersión."
   ]
  }
 ],
 "metadata": {
  "kernelspec": {
   "display_name": "Python 3",
   "language": "python",
   "name": "python3"
  },
  "language_info": {
   "codemirror_mode": {
    "name": "ipython",
    "version": 3
   },
   "file_extension": ".py",
   "mimetype": "text/x-python",
   "name": "python",
   "nbconvert_exporter": "python",
   "pygments_lexer": "ipython3",
   "version": "3.8.5"
  }
 },
 "nbformat": 4,
 "nbformat_minor": 4
}
