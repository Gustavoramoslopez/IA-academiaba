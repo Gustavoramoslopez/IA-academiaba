{
 "cells": [
  {
   "cell_type": "markdown",
   "metadata": {
    "colab_type": "text",
    "id": "zs9b13zr-9WV"
   },
   "source": [
    "# Funciones"
   ]
  },
  {
   "cell_type": "markdown",
   "metadata": {
    "colab_type": "text",
    "id": "UfBuGire_MtF"
   },
   "source": [
    "```\n",
    "def funcion (parametros):\n",
    "    bloque de codigo\n",
    "```"
   ]
  },
  {
   "cell_type": "markdown",
   "metadata": {
    "colab_type": "text",
    "id": "QSTbomPoSOhu"
   },
   "source": [
    "## Ejemplo:\n",
    "\n",
    "Escribir una función que indique si un número es primo o no"
   ]
  },
  {
   "cell_type": "code",
   "execution_count": 1,
   "metadata": {
    "colab": {},
    "colab_type": "code",
    "id": "ZEPjaNtjUG63"
   },
   "outputs": [],
   "source": [
    "def es_primo(numero):\n",
    "\n",
    "    if numero == 2:\n",
    "        return True\n",
    "\n",
    "    elif numero % 2 == 0:\n",
    "        return False\n",
    "\n",
    "    else:\n",
    "        for divisor in range(3, numero, 2):\n",
    "            if numero % divisor == 0:\n",
    "                return False\n",
    "        \n",
    "        return True"
   ]
  },
  {
   "cell_type": "code",
   "execution_count": 2,
   "metadata": {
    "colab": {
     "base_uri": "https://localhost:8080/",
     "height": 34
    },
    "colab_type": "code",
    "executionInfo": {
     "elapsed": 675,
     "status": "ok",
     "timestamp": 1599253706254,
     "user": {
      "displayName": "Manuel Marino Montoya Gamio",
      "photoUrl": "https://lh3.googleusercontent.com/a-/AOh14Ggvwikw8yNTOrR63TADgIsw_qnmLKMoqjHZ_AxK=s64",
      "userId": "16723277136981296486"
     },
     "user_tz": 300
    },
    "id": "6skUYucie5_R",
    "outputId": "a870ea25-4c82-48ad-d445-a3c9d252a906"
   },
   "outputs": [
    {
     "data": {
      "text/plain": [
       "True"
      ]
     },
     "execution_count": 2,
     "metadata": {},
     "output_type": "execute_result"
    }
   ],
   "source": [
    "es_primo(2)"
   ]
  },
  {
   "cell_type": "code",
   "execution_count": 3,
   "metadata": {
    "colab": {
     "base_uri": "https://localhost:8080/",
     "height": 34
    },
    "colab_type": "code",
    "executionInfo": {
     "elapsed": 635,
     "status": "ok",
     "timestamp": 1599253712530,
     "user": {
      "displayName": "Manuel Marino Montoya Gamio",
      "photoUrl": "https://lh3.googleusercontent.com/a-/AOh14Ggvwikw8yNTOrR63TADgIsw_qnmLKMoqjHZ_AxK=s64",
      "userId": "16723277136981296486"
     },
     "user_tz": 300
    },
    "id": "FyZMvZmUe54w",
    "outputId": "2e58f3ae-ee27-41aa-d5ce-a3520a4d2736"
   },
   "outputs": [
    {
     "data": {
      "text/plain": [
       "False"
      ]
     },
     "execution_count": 3,
     "metadata": {},
     "output_type": "execute_result"
    }
   ],
   "source": [
    "es_primo(6)"
   ]
  },
  {
   "cell_type": "code",
   "execution_count": 4,
   "metadata": {
    "colab": {
     "base_uri": "https://localhost:8080/",
     "height": 34
    },
    "colab_type": "code",
    "executionInfo": {
     "elapsed": 650,
     "status": "ok",
     "timestamp": 1599253721010,
     "user": {
      "displayName": "Manuel Marino Montoya Gamio",
      "photoUrl": "https://lh3.googleusercontent.com/a-/AOh14Ggvwikw8yNTOrR63TADgIsw_qnmLKMoqjHZ_AxK=s64",
      "userId": "16723277136981296486"
     },
     "user_tz": 300
    },
    "id": "liW6tgHUe5yV",
    "outputId": "bad3b3c3-6cef-480a-c662-dc6246f1021f"
   },
   "outputs": [
    {
     "data": {
      "text/plain": [
       "False"
      ]
     },
     "execution_count": 4,
     "metadata": {},
     "output_type": "execute_result"
    }
   ],
   "source": [
    "es_primo(15)"
   ]
  },
  {
   "cell_type": "code",
   "execution_count": 5,
   "metadata": {
    "colab": {
     "base_uri": "https://localhost:8080/",
     "height": 34
    },
    "colab_type": "code",
    "executionInfo": {
     "elapsed": 612,
     "status": "ok",
     "timestamp": 1599253737860,
     "user": {
      "displayName": "Manuel Marino Montoya Gamio",
      "photoUrl": "https://lh3.googleusercontent.com/a-/AOh14Ggvwikw8yNTOrR63TADgIsw_qnmLKMoqjHZ_AxK=s64",
      "userId": "16723277136981296486"
     },
     "user_tz": 300
    },
    "id": "89KrlkQ66DmJ",
    "outputId": "dea70173-1dd1-4e21-a8eb-611b9e32e91e"
   },
   "outputs": [
    {
     "data": {
      "text/plain": [
       "True"
      ]
     },
     "execution_count": 5,
     "metadata": {},
     "output_type": "execute_result"
    }
   ],
   "source": [
    "es_primo(17)"
   ]
  },
  {
   "cell_type": "markdown",
   "metadata": {
    "colab_type": "text",
    "id": "vptAaTUopv_a"
   },
   "source": [
    "## Parámetros de una función"
   ]
  },
  {
   "cell_type": "code",
   "execution_count": 6,
   "metadata": {
    "colab": {},
    "colab_type": "code",
    "id": "Me877ul-pydd"
   },
   "outputs": [],
   "source": [
    "def potenciacion(base, exponente):\n",
    "    return base ** exponente"
   ]
  },
  {
   "cell_type": "code",
   "execution_count": 7,
   "metadata": {
    "colab": {
     "base_uri": "https://localhost:8080/",
     "height": 34
    },
    "colab_type": "code",
    "executionInfo": {
     "elapsed": 854,
     "status": "ok",
     "timestamp": 1599258311929,
     "user": {
      "displayName": "Manuel Marino Montoya Gamio",
      "photoUrl": "https://lh3.googleusercontent.com/a-/AOh14Ggvwikw8yNTOrR63TADgIsw_qnmLKMoqjHZ_AxK=s64",
      "userId": "16723277136981296486"
     },
     "user_tz": 300
    },
    "id": "_QQoGQ5kM20F",
    "outputId": "6b575f0e-029b-4e5d-e6fb-690fd8acf751"
   },
   "outputs": [
    {
     "data": {
      "text/plain": [
       "32"
      ]
     },
     "execution_count": 7,
     "metadata": {},
     "output_type": "execute_result"
    }
   ],
   "source": [
    "potenciacion(2, 5)"
   ]
  },
  {
   "cell_type": "code",
   "execution_count": 8,
   "metadata": {
    "colab": {
     "base_uri": "https://localhost:8080/",
     "height": 34
    },
    "colab_type": "code",
    "executionInfo": {
     "elapsed": 722,
     "status": "ok",
     "timestamp": 1599258317999,
     "user": {
      "displayName": "Manuel Marino Montoya Gamio",
      "photoUrl": "https://lh3.googleusercontent.com/a-/AOh14Ggvwikw8yNTOrR63TADgIsw_qnmLKMoqjHZ_AxK=s64",
      "userId": "16723277136981296486"
     },
     "user_tz": 300
    },
    "id": "JcEQeVdQM2xN",
    "outputId": "61e9e0e4-ee3f-420e-f5cb-0cd4ec87d0e5"
   },
   "outputs": [
    {
     "data": {
      "text/plain": [
       "25"
      ]
     },
     "execution_count": 8,
     "metadata": {},
     "output_type": "execute_result"
    }
   ],
   "source": [
    "potenciacion(5, 2)"
   ]
  },
  {
   "cell_type": "code",
   "execution_count": 9,
   "metadata": {
    "colab": {
     "base_uri": "https://localhost:8080/",
     "height": 34
    },
    "colab_type": "code",
    "executionInfo": {
     "elapsed": 824,
     "status": "ok",
     "timestamp": 1599258363182,
     "user": {
      "displayName": "Manuel Marino Montoya Gamio",
      "photoUrl": "https://lh3.googleusercontent.com/a-/AOh14Ggvwikw8yNTOrR63TADgIsw_qnmLKMoqjHZ_AxK=s64",
      "userId": "16723277136981296486"
     },
     "user_tz": 300
    },
    "id": "tR57KsoLM2nj",
    "outputId": "e9c24aa1-8534-4270-f444-bb12d8b2645b"
   },
   "outputs": [
    {
     "data": {
      "text/plain": [
       "243"
      ]
     },
     "execution_count": 9,
     "metadata": {},
     "output_type": "execute_result"
    }
   ],
   "source": [
    "potenciacion(base = 3, exponente = 5)"
   ]
  },
  {
   "cell_type": "code",
   "execution_count": 10,
   "metadata": {
    "colab": {
     "base_uri": "https://localhost:8080/",
     "height": 34
    },
    "colab_type": "code",
    "executionInfo": {
     "elapsed": 558,
     "status": "ok",
     "timestamp": 1599258380135,
     "user": {
      "displayName": "Manuel Marino Montoya Gamio",
      "photoUrl": "https://lh3.googleusercontent.com/a-/AOh14Ggvwikw8yNTOrR63TADgIsw_qnmLKMoqjHZ_AxK=s64",
      "userId": "16723277136981296486"
     },
     "user_tz": 300
    },
    "id": "aJG_OJ6QM2Zl",
    "outputId": "864f78b3-20b7-466e-da0b-65afab5671bd"
   },
   "outputs": [
    {
     "data": {
      "text/plain": [
       "243"
      ]
     },
     "execution_count": 10,
     "metadata": {},
     "output_type": "execute_result"
    }
   ],
   "source": [
    "potenciacion(exponente = 5, base = 3)"
   ]
  },
  {
   "cell_type": "markdown",
   "metadata": {
    "colab_type": "text",
    "id": "PPLAmdB0c2tB"
   },
   "source": [
    "## Parámetros con valores por defecto"
   ]
  },
  {
   "cell_type": "code",
   "execution_count": 11,
   "metadata": {
    "colab": {},
    "colab_type": "code",
    "id": "GN5R2dsBc2js"
   },
   "outputs": [],
   "source": [
    "def potenciacion(base, exponente = 2):\n",
    "    return base ** exponente"
   ]
  },
  {
   "cell_type": "code",
   "execution_count": 12,
   "metadata": {
    "colab": {
     "base_uri": "https://localhost:8080/",
     "height": 34
    },
    "colab_type": "code",
    "executionInfo": {
     "elapsed": 661,
     "status": "ok",
     "timestamp": 1599258855945,
     "user": {
      "displayName": "Manuel Marino Montoya Gamio",
      "photoUrl": "https://lh3.googleusercontent.com/a-/AOh14Ggvwikw8yNTOrR63TADgIsw_qnmLKMoqjHZ_AxK=s64",
      "userId": "16723277136981296486"
     },
     "user_tz": 300
    },
    "id": "WrI6GMibpN9n",
    "outputId": "ad3c5abb-0909-4e3d-ab22-7eda7d8047de"
   },
   "outputs": [
    {
     "data": {
      "text/plain": [
       "125"
      ]
     },
     "execution_count": 12,
     "metadata": {},
     "output_type": "execute_result"
    }
   ],
   "source": [
    "potenciacion(5, 3)"
   ]
  },
  {
   "cell_type": "code",
   "execution_count": 13,
   "metadata": {
    "colab": {
     "base_uri": "https://localhost:8080/",
     "height": 34
    },
    "colab_type": "code",
    "executionInfo": {
     "elapsed": 712,
     "status": "ok",
     "timestamp": 1599258867500,
     "user": {
      "displayName": "Manuel Marino Montoya Gamio",
      "photoUrl": "https://lh3.googleusercontent.com/a-/AOh14Ggvwikw8yNTOrR63TADgIsw_qnmLKMoqjHZ_AxK=s64",
      "userId": "16723277136981296486"
     },
     "user_tz": 300
    },
    "id": "NQ-qxKEzpNxZ",
    "outputId": "bc4843f4-d868-4bbc-ff16-436714649cfc"
   },
   "outputs": [
    {
     "data": {
      "text/plain": [
       "25"
      ]
     },
     "execution_count": 13,
     "metadata": {},
     "output_type": "execute_result"
    }
   ],
   "source": [
    "potenciacion(5)"
   ]
  },
  {
   "cell_type": "markdown",
   "metadata": {
    "colab_type": "text",
    "id": "2ImNi9Mz_NRQ"
   },
   "source": [
    "## Funciones lambda"
   ]
  },
  {
   "cell_type": "code",
   "execution_count": 14,
   "metadata": {
    "colab": {},
    "colab_type": "code",
    "id": "vXTrO7vWYkEd"
   },
   "outputs": [],
   "source": [
    "def potenciacion(base, exponente):\n",
    "    return base ** exponente"
   ]
  },
  {
   "cell_type": "code",
   "execution_count": 15,
   "metadata": {
    "colab": {},
    "colab_type": "code",
    "id": "EJcUgmeTYj7y"
   },
   "outputs": [],
   "source": [
    "potenciacion_lambda = lambda base, exponente: base ** exponente"
   ]
  },
  {
   "cell_type": "code",
   "execution_count": 16,
   "metadata": {
    "colab": {
     "base_uri": "https://localhost:8080/",
     "height": 34
    },
    "colab_type": "code",
    "executionInfo": {
     "elapsed": 620,
     "status": "ok",
     "timestamp": 1599262140543,
     "user": {
      "displayName": "Manuel Marino Montoya Gamio",
      "photoUrl": "https://lh3.googleusercontent.com/a-/AOh14Ggvwikw8yNTOrR63TADgIsw_qnmLKMoqjHZ_AxK=s64",
      "userId": "16723277136981296486"
     },
     "user_tz": 300
    },
    "id": "5TRlIZ4IYj5t",
    "outputId": "f48e7f87-af80-41a9-c0f7-f448a811d55d"
   },
   "outputs": [
    {
     "data": {
      "text/plain": [
       "81"
      ]
     },
     "execution_count": 16,
     "metadata": {},
     "output_type": "execute_result"
    }
   ],
   "source": [
    "potenciacion_lambda(3, 4)"
   ]
  },
  {
   "cell_type": "markdown",
   "metadata": {
    "colab_type": "text",
    "id": "ofuwaMP3eOZk"
   },
   "source": [
    "## Comentarios en funciones"
   ]
  },
  {
   "cell_type": "code",
   "execution_count": 17,
   "metadata": {
    "colab": {},
    "colab_type": "code",
    "id": "sbCCOw8beOVz"
   },
   "outputs": [],
   "source": [
    "def potenciacion(base, exponente):\n",
    "    \"\"\"\n",
    "    funcion que calcula la potenciacion de una base a un exponente\n",
    "\n",
    "    params:\n",
    "\n",
    "    base: int\n",
    "    exponente: int\n",
    "    \"\"\"\n",
    "\n",
    "    return base ** exponente"
   ]
  },
  {
   "cell_type": "code",
   "execution_count": 18,
   "metadata": {
    "colab": {
     "base_uri": "https://localhost:8080/",
     "height": 34
    },
    "colab_type": "code",
    "executionInfo": {
     "elapsed": 1227,
     "status": "ok",
     "timestamp": 1599267481092,
     "user": {
      "displayName": "Manuel Marino Montoya Gamio",
      "photoUrl": "https://lh3.googleusercontent.com/a-/AOh14Ggvwikw8yNTOrR63TADgIsw_qnmLKMoqjHZ_AxK=s64",
      "userId": "16723277136981296486"
     },
     "user_tz": 300
    },
    "id": "8xSwYrn3eOLN",
    "outputId": "3b074e3d-0827-4ed1-fc28-d6b0fb3d6d91"
   },
   "outputs": [
    {
     "data": {
      "text/plain": [
       "243"
      ]
     },
     "execution_count": 18,
     "metadata": {},
     "output_type": "execute_result"
    }
   ],
   "source": [
    "potenciacion(3, 5)"
   ]
  },
  {
   "cell_type": "code",
   "execution_count": null,
   "metadata": {},
   "outputs": [],
   "source": []
  }
 ],
 "metadata": {
  "colab": {
   "authorship_tag": "ABX9TyPhuYsAR8ufpWrFkNOrCcpt",
   "collapsed_sections": [],
   "name": "datahack-08-funciones.ipynb",
   "provenance": []
  },
  "kernelspec": {
   "display_name": "Python 3",
   "language": "python",
   "name": "python3"
  },
  "language_info": {
   "codemirror_mode": {
    "name": "ipython",
    "version": 3
   },
   "file_extension": ".py",
   "mimetype": "text/x-python",
   "name": "python",
   "nbconvert_exporter": "python",
   "pygments_lexer": "ipython3",
   "version": "3.8.5"
  }
 },
 "nbformat": 4,
 "nbformat_minor": 1
}
