{
 "cells": [
  {
   "cell_type": "markdown",
   "metadata": {
    "colab_type": "text",
    "id": "Z0D1aWhDIOll"
   },
   "source": [
    "# Estructuras iterativas\n"
   ]
  },
  {
   "cell_type": "markdown",
   "metadata": {
    "colab_type": "text",
    "id": "aCk014leoLCD"
   },
   "source": [
    "# Bucles"
   ]
  },
  {
   "cell_type": "markdown",
   "metadata": {
    "colab_type": "text",
    "id": "sJv7k_6mtrNL"
   },
   "source": [
    "## while\n",
    "\n",
    "```\n",
    "while condicion:\n",
    "    bloque de codigo a repetir\n",
    "```"
   ]
  },
  {
   "cell_type": "markdown",
   "metadata": {
    "colab_type": "text",
    "id": "n5kzRJEVrlvp"
   },
   "source": [
    "Imprimir los números enteros menores a 10"
   ]
  },
  {
   "cell_type": "code",
   "execution_count": null,
   "metadata": {
    "colab": {
     "base_uri": "https://localhost:8080/",
     "height": 170
    },
    "colab_type": "code",
    "executionInfo": {
     "elapsed": 847,
     "status": "ok",
     "timestamp": 1598852897859,
     "user": {
      "displayName": "Manuel Marino Montoya Gamio",
      "photoUrl": "https://lh3.googleusercontent.com/a-/AOh14Ggvwikw8yNTOrR63TADgIsw_qnmLKMoqjHZ_AxK=s64",
      "userId": "16723277136981296486"
     },
     "user_tz": 300
    },
    "id": "GQ5HBLz1A9nh",
    "outputId": "e3dae687-e9ad-4594-a981-4735c9257266"
   },
   "outputs": [],
   "source": [
    "numero = 1\n",
    "\n",
    "while numero < 10:\n",
    "\n",
    "    print(numero)\n",
    "    numero = numero + 1"
   ]
  },
  {
   "cell_type": "code",
   "execution_count": 2,
   "metadata": {
    "colab": {
     "base_uri": "https://localhost:8080/",
     "height": 34
    },
    "colab_type": "code",
    "executionInfo": {
     "elapsed": 615,
     "status": "ok",
     "timestamp": 1598852925175,
     "user": {
      "displayName": "Manuel Marino Montoya Gamio",
      "photoUrl": "https://lh3.googleusercontent.com/a-/AOh14Ggvwikw8yNTOrR63TADgIsw_qnmLKMoqjHZ_AxK=s64",
      "userId": "16723277136981296486"
     },
     "user_tz": 300
    },
    "id": "DgUnMIsvA9aJ",
    "outputId": "fdd806d9-5345-465b-85c1-bda2e354ecf2"
   },
   "outputs": [
    {
     "data": {
      "text/plain": [
       "10"
      ]
     },
     "execution_count": 2,
     "metadata": {},
     "output_type": "execute_result"
    }
   ],
   "source": [
    "numero"
   ]
  },
  {
   "cell_type": "markdown",
   "metadata": {
    "colab_type": "text",
    "id": "oitAu0YyFmRm"
   },
   "source": [
    "## Bucles infinitos"
   ]
  },
  {
   "cell_type": "code",
   "execution_count": null,
   "metadata": {
    "colab": {},
    "colab_type": "code",
    "id": "GkWf7gMfFoXS"
   },
   "outputs": [],
   "source": [
    "numero = 1\n",
    "\n",
    "while numero < 10:\n",
    "\n",
    "    print(numero)\n",
    "    numero = numero + 1 "
   ]
  },
  {
   "cell_type": "markdown",
   "metadata": {
    "colab_type": "text",
    "id": "GVr8TBcdnmoj"
   },
   "source": [
    "## Flags de salida"
   ]
  },
  {
   "cell_type": "markdown",
   "metadata": {
    "colab_type": "text",
    "id": "Nfoofmd4npQJ"
   },
   "source": [
    "Calcular la suma de una cantidad de números enteros ingresados por el usuario"
   ]
  },
  {
   "cell_type": "code",
   "execution_count": 4,
   "metadata": {
    "colab": {
     "base_uri": "https://localhost:8080/",
     "height": 153
    },
    "colab_type": "code",
    "executionInfo": {
     "elapsed": 27113,
     "status": "ok",
     "timestamp": 1598856526965,
     "user": {
      "displayName": "Manuel Marino Montoya Gamio",
      "photoUrl": "https://lh3.googleusercontent.com/a-/AOh14Ggvwikw8yNTOrR63TADgIsw_qnmLKMoqjHZ_AxK=s64",
      "userId": "16723277136981296486"
     },
     "user_tz": 300
    },
    "id": "PmgII_A8Hz6D",
    "outputId": "d92ca1b3-6d60-4ef5-9b7b-fae526edf90b"
   },
   "outputs": [
    {
     "name": "stdout",
     "output_type": "stream",
     "text": [
      "Ingrese un número ('exit' para terminar): 4\n",
      "La suma es 5\n",
      "Ingrese un número ('exit' para terminar): 10\n",
      "La suma es 15\n",
      "Ingrese un número ('exit' para terminar): 20\n",
      "La suma es 35\n",
      "Ingrese un número ('exit' para terminar): 10\n",
      "La suma es 45\n",
      "Ingrese un número ('exit' para terminar): exit\n",
      "La suma final es 45\n"
     ]
    }
   ],
   "source": [
    "suma = 1\n",
    "continuar = True\n",
    "\n",
    "while continuar:\n",
    "\n",
    "    input_usuario = input(\"Ingrese un número ('exit' para terminar): \")\n",
    "\n",
    "    if input_usuario == 'exit':\n",
    "        continuar = False\n",
    "\n",
    "    else:\n",
    "        numero = int(input_usuario)\n",
    "        suma = suma + numero\n",
    "        print(f\"La suma es {suma}\")\n",
    "\n",
    "print(f\"La suma final es {suma}\")"
   ]
  },
  {
   "cell_type": "markdown",
   "metadata": {
    "colab_type": "text",
    "id": "luJasvyArqkv"
   },
   "source": [
    "## Sentencia - Break"
   ]
  },
  {
   "cell_type": "code",
   "execution_count": 5,
   "metadata": {
    "colab": {
     "base_uri": "https://localhost:8080/",
     "height": 85
    },
    "colab_type": "code",
    "executionInfo": {
     "elapsed": 914,
     "status": "ok",
     "timestamp": 1598858532216,
     "user": {
      "displayName": "Manuel Marino Montoya Gamio",
      "photoUrl": "https://lh3.googleusercontent.com/a-/AOh14Ggvwikw8yNTOrR63TADgIsw_qnmLKMoqjHZ_AxK=s64",
      "userId": "16723277136981296486"
     },
     "user_tz": 300
    },
    "id": "rikH5cw3SMby",
    "outputId": "22000558-e4cc-4d0b-cef0-3529ea458ade"
   },
   "outputs": [
    {
     "name": "stdout",
     "output_type": "stream",
     "text": [
      "1\n",
      "2\n",
      "3\n",
      "4\n"
     ]
    }
   ],
   "source": [
    "numero = 1\n",
    "\n",
    "while numero < 10:\n",
    "\n",
    "    if numero == 5:\n",
    "        break\n",
    "        \n",
    "    print(numero)\n",
    "    numero = numero + 1"
   ]
  },
  {
   "cell_type": "markdown",
   "metadata": {
    "colab_type": "text",
    "id": "T0_bzmVloK7N"
   },
   "source": [
    "## For\n",
    "\n",
    "```\n",
    "for valor in 'lista de valores':\n",
    "    bloque de codigo para cada valor\n",
    "```"
   ]
  },
  {
   "cell_type": "markdown",
   "metadata": {
    "colab_type": "text",
    "id": "Z46_Ey6Dj1pD"
   },
   "source": [
    "Escribir la letra de la canción Me gusta de Manu Chao"
   ]
  },
  {
   "cell_type": "code",
   "execution_count": 18,
   "metadata": {
    "colab": {
     "base_uri": "https://localhost:8080/",
     "height": 119
    },
    "colab_type": "code",
    "executionInfo": {
     "elapsed": 684,
     "status": "ok",
     "timestamp": 1598861537863,
     "user": {
      "displayName": "Manuel Marino Montoya Gamio",
      "photoUrl": "https://lh3.googleusercontent.com/a-/AOh14Ggvwikw8yNTOrR63TADgIsw_qnmLKMoqjHZ_AxK=s64",
      "userId": "16723277136981296486"
     },
     "user_tz": 300
    },
    "id": "8ySbsFxajdoB",
    "outputId": "3402acd6-b0c1-4af1-a067-a4fde0ffaf2d"
   },
   "outputs": [
    {
     "name": "stdout",
     "output_type": "stream",
     "text": [
      "Me gusta los aviones, Me gustas tu\n",
      "Me gusta viajar, Me gustas tu\n",
      "Me gusta la mañana, Me gustas tu\n",
      "Me gusta el viento, Me gustas tu\n",
      "Me gusta soñar, Me gustas tu\n",
      "Me gusta la mar, Me gustas tu\n",
      "Me gusta los aviones, me gustas tú\n",
      "Me gusta viajar, me gustas tú\n",
      "Me gusta la mañana, me gustas tú\n",
      "Me gusta el viento, me gustas tú\n",
      "Me gusta soñar, me gustas tú\n",
      "Me gusta la mar, me gustas tú\n"
     ]
    }
   ],
   "source": [
    "gustos_manuchao = [\"los aviones\", \"viajar\", \"la mañana\", \"el viento\", \"soñar\", \"la mar\"]\n",
    "\n",
    "for valor in gustos_manuchao:\n",
    "    print(\"Me gusta \" + valor + \", \" + \"Me gustas tu\")\n",
    "    \n",
    "    \n",
    "for gusto in gustos_manuchao:\n",
    "    print(f\"Me gusta {gusto}, me gustas tú\")"
   ]
  },
  {
   "cell_type": "markdown",
   "metadata": {
    "colab_type": "text",
    "id": "krnZUFJ-zL5i"
   },
   "source": [
    "## Range"
   ]
  },
  {
   "cell_type": "code",
   "execution_count": 1,
   "metadata": {
    "colab": {
     "base_uri": "https://localhost:8080/",
     "height": 136
    },
    "colab_type": "code",
    "executionInfo": {
     "elapsed": 592,
     "status": "ok",
     "timestamp": 1598862713526,
     "user": {
      "displayName": "Manuel Marino Montoya Gamio",
      "photoUrl": "https://lh3.googleusercontent.com/a-/AOh14Ggvwikw8yNTOrR63TADgIsw_qnmLKMoqjHZ_AxK=s64",
      "userId": "16723277136981296486"
     },
     "user_tz": 300
    },
    "id": "quYdxn-7obm-",
    "outputId": "83ae0966-a47c-4662-be31-b88d2d9c1b99"
   },
   "outputs": [
    {
     "name": "stdout",
     "output_type": "stream",
     "text": [
      "1\n",
      "4\n",
      "7\n",
      "10\n",
      "13\n",
      "16\n",
      "19\n"
     ]
    }
   ],
   "source": [
    "for numero in range(1, 20, 3):\n",
    "    print(numero)"
   ]
  },
  {
   "cell_type": "code",
   "execution_count": 3,
   "metadata": {},
   "outputs": [
    {
     "name": "stdout",
     "output_type": "stream",
     "text": [
      "Introducir año en que nacio:  2010\n",
      "Es generacion z\n"
     ]
    }
   ],
   "source": [
    "a = int(input(\"Introducir año en que nacio:  \"))\n",
    "if a >= 1920 and a <= 1940:\n",
    "    print(\"Es generacion silenciosa\")\n",
    "elif a >= 1946 and a <= 1964:\n",
    "    print(\"Es baby boomer\")\n",
    "elif a >= 1965 and a <= 1979:\n",
    "    print(\"Es generacion x\")\n",
    "elif a >= 1980 and a <= 2000:\n",
    "    print(\"Es generacion y\")\n",
    "elif a >= 2001 and a <= 2010:\n",
    "    print(\"Es generacion z\")"
   ]
  },
  {
   "cell_type": "code",
   "execution_count": null,
   "metadata": {},
   "outputs": [],
   "source": [
    "#Datos\n",
    "edad = 17\n",
    "antiguedad = 1\n",
    "ingreso = 1000"
   ]
  },
  {
   "cell_type": "code",
   "execution_count": null,
   "metadata": {},
   "outputs": [],
   "source": [
    "if edad >= 18:\n",
    "    if antiguedad >= 3 and ingreso >= 2500:\n",
    "        print(\"Se aprueba el credito\")\n",
    "    elif antiguedad < 3 and ingreso >= 4000:\n",
    "        print(\"Se aprueba el credito bancario\")\n",
    "    elif antiguedad < 3 and ingreso < 4000:\n",
    "        print(\"No tiene las condiciones necesarias para el credito\")\n",
    "else:\n",
    "    print(\"No tiene la edad suficiente\")"
   ]
  },
  {
   "cell_type": "code",
   "execution_count": 63,
   "metadata": {},
   "outputs": [],
   "source": [
    "#Dato\n",
    "anio = 4400"
   ]
  },
  {
   "cell_type": "code",
   "execution_count": 62,
   "metadata": {},
   "outputs": [
    {
     "name": "stdout",
     "output_type": "stream",
     "text": [
      "No es bisiesto\n"
     ]
    }
   ],
   "source": [
    "anio = float(anio)\n",
    "if (anio % 4) == 0 and (anio % 400) == 0:\n",
    "    if (anio % 100) == 0:\n",
    "        print(\"No es bisiesto\")\n",
    "    else:\n",
    "        print(\"Es un año bisiesto\")\n",
    "else:\n",
    "    print(\"No es un año bisiesto\")"
   ]
  },
  {
   "cell_type": "code",
   "execution_count": 64,
   "metadata": {},
   "outputs": [
    {
     "ename": "SyntaxError",
     "evalue": "invalid syntax (<ipython-input-64-35edd3d48287>, line 8)",
     "output_type": "error",
     "traceback": [
      "\u001b[1;36m  File \u001b[1;32m\"<ipython-input-64-35edd3d48287>\"\u001b[1;36m, line \u001b[1;32m8\u001b[0m\n\u001b[1;33m    else:\u001b[0m\n\u001b[1;37m    ^\u001b[0m\n\u001b[1;31mSyntaxError\u001b[0m\u001b[1;31m:\u001b[0m invalid syntax\n"
     ]
    }
   ],
   "source": [
    "if anio % 4 == 0:\n",
    "    \n",
    "    if anio % 100 == 0:\n",
    "        \n",
    "        if anio % 400 == 0:\n",
    "            print(\"Bisiesto\")\n",
    "            \n",
    "            else:\n",
    "                print(\"No bisiesto\")\n",
    "                \n",
    "        else:\n",
    "            print(\"Bisiesto\")\n",
    "            \n",
    "else:\n",
    "    print(\"No bisiesto\")"
   ]
  },
  {
   "cell_type": "code",
   "execution_count": null,
   "metadata": {},
   "outputs": [],
   "source": []
  },
  {
   "cell_type": "code",
   "execution_count": null,
   "metadata": {},
   "outputs": [],
   "source": []
  }
 ],
 "metadata": {
  "colab": {
   "collapsed_sections": [],
   "name": "datahack-07-bucles.ipynb",
   "provenance": []
  },
  "kernelspec": {
   "display_name": "Python 3",
   "language": "python",
   "name": "python3"
  },
  "language_info": {
   "codemirror_mode": {
    "name": "ipython",
    "version": 3
   },
   "file_extension": ".py",
   "mimetype": "text/x-python",
   "name": "python",
   "nbconvert_exporter": "python",
   "pygments_lexer": "ipython3",
   "version": "3.8.5"
  }
 },
 "nbformat": 4,
 "nbformat_minor": 1
}
