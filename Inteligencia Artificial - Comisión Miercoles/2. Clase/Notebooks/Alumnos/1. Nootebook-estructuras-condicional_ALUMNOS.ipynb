{
 "cells": [
  {
   "cell_type": "markdown",
   "metadata": {
    "colab_type": "text",
    "id": "Z0D1aWhDIOll"
   },
   "source": [
    "# Estructuras de control\n"
   ]
  },
  {
   "cell_type": "markdown",
   "metadata": {
    "colab_type": "text",
    "id": "hyIIJixUYZgw"
   },
   "source": [
    "## If\n",
    "\n",
    "```\n",
    "if condicion:\n",
    "    bloque si se cumple la condicion\n",
    "```"
   ]
  },
  {
   "cell_type": "markdown",
   "metadata": {
    "colab_type": "text",
    "id": "2iJGlZG8cVtm"
   },
   "source": [
    "Escribir un programa que indique si un número es par"
   ]
  },
  {
   "cell_type": "code",
   "execution_count": null,
   "metadata": {
    "colab": {},
    "colab_type": "code",
    "id": "uGayIZBBbid-"
   },
   "outputs": [],
   "source": [
    "numero = 17\n",
    "\n",
    "if numero % 2 == 0:\n",
    "    print(\"El número es par\")\n",
    "else:\n",
    "    print(\"El numero es impar\")"
   ]
  },
  {
   "cell_type": "markdown",
   "metadata": {
    "colab_type": "text",
    "id": "ow7Jbwbec2ur"
   },
   "source": [
    "## if ... else\n",
    "\n",
    "```\n",
    "if condicion:\n",
    "    bloque si se cumple la condicion\n",
    "else:\n",
    "    bloque si NO se cumple la condición\n",
    "```"
   ]
  },
  {
   "cell_type": "code",
   "execution_count": null,
   "metadata": {
    "colab": {
     "base_uri": "https://localhost:8080/",
     "height": 34
    },
    "colab_type": "code",
    "executionInfo": {
     "elapsed": 1342,
     "status": "ok",
     "timestamp": 1598845471169,
     "user": {
      "displayName": "Manuel Marino Montoya Gamio",
      "photoUrl": "https://lh3.googleusercontent.com/a-/AOh14Ggvwikw8yNTOrR63TADgIsw_qnmLKMoqjHZ_AxK=s64",
      "userId": "16723277136981296486"
     },
     "user_tz": 300
    },
    "id": "QqE4bsT6ueKo",
    "outputId": "7f762e0d-9dc5-41a8-b30d-9d20278b5c86"
   },
   "outputs": [],
   "source": [
    "numero = 16\n",
    "\n",
    "if numero % 2 == 0:\n",
    "    print(\"El número es par\")\n",
    "\n",
    "else:\n",
    "    print(\"El número es impar\")\n"
   ]
  },
  {
   "cell_type": "markdown",
   "metadata": {
    "colab_type": "text",
    "id": "sZdaGjixueEP"
   },
   "source": [
    "## if ... elif ... else"
   ]
  },
  {
   "cell_type": "markdown",
   "metadata": {
    "colab_type": "text",
    "id": "WFB4o8G0oFTs"
   },
   "source": [
    "```\n",
    "if condicion 1:\n",
    "    bloque si se cumple la condicion 1\n",
    "elif condicion 2:\n",
    "    bloque si se cumple la condicion 2\n",
    "elif condicion 3:\n",
    "    bloque si se cumple la condición 3\n",
    "...\n",
    "else:\n",
    "    bloque si NO se cumple ninguna condición\n",
    "```"
   ]
  },
  {
   "cell_type": "markdown",
   "metadata": {
    "colab_type": "text",
    "id": "n8VPrW5qeRnQ"
   },
   "source": [
    "## Ejercicio 1\n",
    "\n",
    "Escribir un programa que indique la generación correspondiente para un año de nacimiento indicado\n",
    "\n",
    "<img src = \"https://integrandoequipos.com/wp-content/uploads/2019/06/generaciones2.jpg\">"
   ]
  },
  {
   "cell_type": "code",
   "execution_count": null,
   "metadata": {
    "colab": {
     "base_uri": "https://localhost:8080/",
     "height": 34
    },
    "colab_type": "code",
    "executionInfo": {
     "elapsed": 1036,
     "status": "ok",
     "timestamp": 1598849089531,
     "user": {
      "displayName": "Manuel Marino Montoya Gamio",
      "photoUrl": "https://lh3.googleusercontent.com/a-/AOh14Ggvwikw8yNTOrR63TADgIsw_qnmLKMoqjHZ_AxK=s64",
      "userId": "16723277136981296486"
     },
     "user_tz": 300
    },
    "id": "6e7ypVYLextZ",
    "outputId": "0e10a83a-bde5-404e-ab1f-c3518b2f9e3d"
   },
   "outputs": [],
   "source": [
    "a = int(input(\"Introducir año en que nacio:  \"))\n",
    "\n",
    "if a >= 1920 and a <= 1940:\n",
    "    print(\"Es generacion silenciosa\")\n",
    "\n",
    "elif a >= 1946 and a <= 1964:\n",
    "    print(\"Es baby boomer\")\n",
    "    \n",
    "elif a >= 1965 and a <= 1979:\n",
    "    print(\"Es generacion x\")\n",
    "    \n",
    "elif a >= 1980 and a <= 2000:\n",
    "    print(\"Es generacion y\")\n",
    "    \n",
    "elif a >= 2001 and a <= 2010:\n",
    "    print(\"Es generacion z\")"
   ]
  },
  {
   "cell_type": "markdown",
   "metadata": {
    "colab_type": "text",
    "id": "gzYIO8YWgjLb"
   },
   "source": [
    "## if ... else anidados\n",
    "```\n",
    "if condicion exterior:\n",
    "      \n",
    "      if condicion interior:\n",
    "          bloque si se cumplen ambas condiciones\n",
    "      \n",
    "      else:\n",
    "          bloque si se cumple solo la condicion exterior\n",
    "\n",
    "else:\n",
    "      bloque si no se cumple ninguna condicion\n",
    "```"
   ]
  },
  {
   "cell_type": "markdown",
   "metadata": {
    "colab_type": "text",
    "id": "nWUp4obvgi-J"
   },
   "source": [
    "**Determinar si se va a entregar un crédito a un cliente de un banco.**\n",
    "\n",
    "Para aprobar un crédito, el cliente debe ser mayor de edad. \n",
    "\n",
    "Además, debe tener una antiguedad en el sistema financiero de como mínimo 3 años y un ingreso mayor a 2500 soles. \n",
    "\n",
    "En caso no tenga la antiguedad suficiente, su ingreso mensual debe ser como mínimo  4000 soles. \n",
    "\n",
    "Si no cumple ninguna de las condiciones, no se aprueba el crédito"
   ]
  },
  {
   "cell_type": "code",
   "execution_count": null,
   "metadata": {
    "colab": {},
    "colab_type": "code",
    "id": "hgSo-3lj2XqK"
   },
   "outputs": [],
   "source": [
    "#Datos\n",
    "edad = 15\n",
    "antiguedad = 10\n",
    "ingreso = 50000"
   ]
  },
  {
   "cell_type": "code",
   "execution_count": null,
   "metadata": {
    "colab": {
     "base_uri": "https://localhost:8080/",
     "height": 34
    },
    "colab_type": "code",
    "executionInfo": {
     "elapsed": 548,
     "status": "ok",
     "timestamp": 1598850140361,
     "user": {
      "displayName": "Manuel Marino Montoya Gamio",
      "photoUrl": "https://lh3.googleusercontent.com/a-/AOh14Ggvwikw8yNTOrR63TADgIsw_qnmLKMoqjHZ_AxK=s64",
      "userId": "16723277136981296486"
     },
     "user_tz": 300
    },
    "id": "Sc4X6WQu2Zsr",
    "outputId": "1b4bfcf6-c3a2-4b4b-b655-855c604a80bf"
   },
   "outputs": [],
   "source": [
    "if edad >= 18:\n",
    "    if antiguedad >= 3 and ingreso >= 2500:\n",
    "        print(\"Se aprueba el credito\")\n",
    "    elif antiguedad < 3 and ingreso >= 4000:\n",
    "        print(\"Se aprueba el credito bancario\")\n",
    "else:\n",
    "    print(\"No tiene la edad suficiente\")\n",
    "        \n",
    "        "
   ]
  },
  {
   "cell_type": "markdown",
   "metadata": {
    "colab_type": "text",
    "id": "0GYNVccXVZ0i"
   },
   "source": [
    "## Ejercicio 2\n",
    "\n",
    "Escribir un programa que indique si un año es bisiesto o no. Las reglas para determinar que un año es bisiesto son\n",
    "\n",
    "```\n",
    "Los años bisiestos son los divisibles entre 4 (como 2004, 2008)\t\t \n",
    "\n",
    "\texcepto si es divisible entre 100, entonces no es bisiesto (como 2100, 2200)\n",
    " \t \t\t\n",
    "\t\texcepto si es divisible entre 400, entonces sí (como 2000, 2400)\n",
    "```"
   ]
  },
  {
   "cell_type": "code",
   "execution_count": null,
   "metadata": {
    "colab": {},
    "colab_type": "code",
    "id": "HCwsH_X65_S3"
   },
   "outputs": [],
   "source": [
    "#Dato\n",
    "anio = 2000"
   ]
  },
  {
   "cell_type": "code",
   "execution_count": null,
   "metadata": {
    "colab": {
     "base_uri": "https://localhost:8080/",
     "height": 34
    },
    "colab_type": "code",
    "executionInfo": {
     "elapsed": 875,
     "status": "ok",
     "timestamp": 1598851066709,
     "user": {
      "displayName": "Manuel Marino Montoya Gamio",
      "photoUrl": "https://lh3.googleusercontent.com/a-/AOh14Ggvwikw8yNTOrR63TADgIsw_qnmLKMoqjHZ_AxK=s64",
      "userId": "16723277136981296486"
     },
     "user_tz": 300
    },
    "id": "WDnb48lO7VUX",
    "outputId": "c8e23ec7-c1f1-4082-9e92-243225bef00b"
   },
   "outputs": [],
   "source": []
  },
  {
   "cell_type": "code",
   "execution_count": null,
   "metadata": {},
   "outputs": [],
   "source": []
  }
 ],
 "metadata": {
  "colab": {
   "collapsed_sections": [
    "Z0D1aWhDIOll"
   ],
   "name": "datahack-06-control-de-flujo.ipynb",
   "provenance": []
  },
  "kernelspec": {
   "display_name": "Python 3",
   "language": "python",
   "name": "python3"
  },
  "language_info": {
   "codemirror_mode": {
    "name": "ipython",
    "version": 3
   },
   "file_extension": ".py",
   "mimetype": "text/x-python",
   "name": "python",
   "nbconvert_exporter": "python",
   "pygments_lexer": "ipython3",
   "version": "3.8.5"
  }
 },
 "nbformat": 4,
 "nbformat_minor": 1
}
